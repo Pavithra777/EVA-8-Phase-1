{
  "cells": [
    {
      "cell_type": "markdown",
      "metadata": {
        "id": "view-in-github",
        "colab_type": "text"
      },
      "source": [
        "<a href=\"https://colab.research.google.com/github/Pavithra777/EVA-8-Phase-1/blob/main/Assignment%209/session9.ipynb\" target=\"_parent\"><img src=\"https://colab.research.google.com/assets/colab-badge.svg\" alt=\"Open In Colab\"/></a>"
      ]
    },
    {
      "cell_type": "code",
      "execution_count": 26,
      "metadata": {
        "colab": {
          "base_uri": "https://localhost:8080/"
        },
        "id": "iKNk5Be1jeXy",
        "outputId": "c648a5ce-e6c1-4c42-eadd-8c036ae52247"
      },
      "outputs": [
        {
          "output_type": "stream",
          "name": "stdout",
          "text": [
            "--2023-02-24 20:05:28--  https://raw.githubusercontent.com/Pavithra777/PavithraDevi/main/utils.py\n",
            "Resolving raw.githubusercontent.com (raw.githubusercontent.com)... 185.199.108.133, 185.199.109.133, 185.199.110.133, ...\n",
            "Connecting to raw.githubusercontent.com (raw.githubusercontent.com)|185.199.108.133|:443... connected.\n",
            "HTTP request sent, awaiting response... 200 OK\n",
            "Length: 7575 (7.4K) [text/plain]\n",
            "Saving to: ‘utils.py’\n",
            "\n",
            "utils.py            100%[===================>]   7.40K  --.-KB/s    in 0s      \n",
            "\n",
            "2023-02-24 20:05:29 (95.6 MB/s) - ‘utils.py’ saved [7575/7575]\n",
            "\n",
            "Looking in indexes: https://pypi.org/simple, https://us-python.pkg.dev/colab-wheels/public/simple/\n",
            "Requirement already satisfied: torch_lr_finder in /usr/local/lib/python3.8/dist-packages (0.2.1)\n",
            "Requirement already satisfied: matplotlib in /usr/local/lib/python3.8/dist-packages (from torch_lr_finder) (3.5.3)\n",
            "Requirement already satisfied: numpy in /usr/local/lib/python3.8/dist-packages (from torch_lr_finder) (1.22.4)\n",
            "Requirement already satisfied: torch>=0.4.1 in /usr/local/lib/python3.8/dist-packages (from torch_lr_finder) (1.13.1+cu116)\n",
            "Requirement already satisfied: packaging in /usr/local/lib/python3.8/dist-packages (from torch_lr_finder) (23.0)\n",
            "Requirement already satisfied: tqdm in /usr/local/lib/python3.8/dist-packages (from torch_lr_finder) (4.64.1)\n",
            "Requirement already satisfied: typing-extensions in /usr/local/lib/python3.8/dist-packages (from torch>=0.4.1->torch_lr_finder) (4.5.0)\n",
            "Requirement already satisfied: cycler>=0.10 in /usr/local/lib/python3.8/dist-packages (from matplotlib->torch_lr_finder) (0.11.0)\n",
            "Requirement already satisfied: fonttools>=4.22.0 in /usr/local/lib/python3.8/dist-packages (from matplotlib->torch_lr_finder) (4.38.0)\n",
            "Requirement already satisfied: kiwisolver>=1.0.1 in /usr/local/lib/python3.8/dist-packages (from matplotlib->torch_lr_finder) (1.4.4)\n",
            "Requirement already satisfied: pillow>=6.2.0 in /usr/local/lib/python3.8/dist-packages (from matplotlib->torch_lr_finder) (7.1.2)\n",
            "Requirement already satisfied: pyparsing>=2.2.1 in /usr/local/lib/python3.8/dist-packages (from matplotlib->torch_lr_finder) (3.0.9)\n",
            "Requirement already satisfied: python-dateutil>=2.7 in /usr/local/lib/python3.8/dist-packages (from matplotlib->torch_lr_finder) (2.8.2)\n",
            "Requirement already satisfied: six>=1.5 in /usr/local/lib/python3.8/dist-packages (from python-dateutil>=2.7->matplotlib->torch_lr_finder) (1.15.0)\n"
          ]
        }
      ],
      "source": [
        "!wget https://raw.githubusercontent.com/Pavithra777/PavithraDevi/main/utils.py\n",
        "!pip install torch_lr_finder\n",
        "import utils"
      ]
    },
    {
      "cell_type": "code",
      "execution_count": 27,
      "metadata": {
        "colab": {
          "base_uri": "https://localhost:8080/"
        },
        "id": "xmZ9LWL8CA7u",
        "outputId": "275bc768-5da0-4a59-c14f-e7039d64e143"
      },
      "outputs": [
        {
          "output_type": "stream",
          "name": "stdout",
          "text": [
            "--2023-02-24 20:05:33--  https://raw.githubusercontent.com/Pavithra777/PavithraDevi/main/models/transformers.py\n",
            "Resolving raw.githubusercontent.com (raw.githubusercontent.com)... 185.199.111.133, 185.199.109.133, 185.199.108.133, ...\n",
            "Connecting to raw.githubusercontent.com (raw.githubusercontent.com)|185.199.111.133|:443... connected.\n",
            "HTTP request sent, awaiting response... 200 OK\n",
            "Length: 2029 (2.0K) [text/plain]\n",
            "Saving to: ‘transformers.py’\n",
            "\n",
            "transformers.py     100%[===================>]   1.98K  --.-KB/s    in 0s      \n",
            "\n",
            "2023-02-24 20:05:33 (40.7 MB/s) - ‘transformers.py’ saved [2029/2029]\n",
            "\n",
            "Looking in indexes: https://pypi.org/simple, https://us-python.pkg.dev/colab-wheels/public/simple/\n",
            "Requirement already satisfied: torch_lr_finder in /usr/local/lib/python3.8/dist-packages (0.2.1)\n",
            "Requirement already satisfied: packaging in /usr/local/lib/python3.8/dist-packages (from torch_lr_finder) (23.0)\n",
            "Requirement already satisfied: numpy in /usr/local/lib/python3.8/dist-packages (from torch_lr_finder) (1.22.4)\n",
            "Requirement already satisfied: matplotlib in /usr/local/lib/python3.8/dist-packages (from torch_lr_finder) (3.5.3)\n",
            "Requirement already satisfied: tqdm in /usr/local/lib/python3.8/dist-packages (from torch_lr_finder) (4.64.1)\n",
            "Requirement already satisfied: torch>=0.4.1 in /usr/local/lib/python3.8/dist-packages (from torch_lr_finder) (1.13.1+cu116)\n",
            "Requirement already satisfied: typing-extensions in /usr/local/lib/python3.8/dist-packages (from torch>=0.4.1->torch_lr_finder) (4.5.0)\n",
            "Requirement already satisfied: pillow>=6.2.0 in /usr/local/lib/python3.8/dist-packages (from matplotlib->torch_lr_finder) (7.1.2)\n",
            "Requirement already satisfied: python-dateutil>=2.7 in /usr/local/lib/python3.8/dist-packages (from matplotlib->torch_lr_finder) (2.8.2)\n",
            "Requirement already satisfied: pyparsing>=2.2.1 in /usr/local/lib/python3.8/dist-packages (from matplotlib->torch_lr_finder) (3.0.9)\n",
            "Requirement already satisfied: fonttools>=4.22.0 in /usr/local/lib/python3.8/dist-packages (from matplotlib->torch_lr_finder) (4.38.0)\n",
            "Requirement already satisfied: kiwisolver>=1.0.1 in /usr/local/lib/python3.8/dist-packages (from matplotlib->torch_lr_finder) (1.4.4)\n",
            "Requirement already satisfied: cycler>=0.10 in /usr/local/lib/python3.8/dist-packages (from matplotlib->torch_lr_finder) (0.11.0)\n",
            "Requirement already satisfied: six>=1.5 in /usr/local/lib/python3.8/dist-packages (from python-dateutil>=2.7->matplotlib->torch_lr_finder) (1.15.0)\n"
          ]
        }
      ],
      "source": [
        "!wget https://raw.githubusercontent.com/Pavithra777/PavithraDevi/main/models/transformers.py\n",
        "!pip install torch_lr_finder\n",
        "import transformers as m"
      ]
    },
    {
      "cell_type": "code",
      "execution_count": 28,
      "metadata": {
        "colab": {
          "base_uri": "https://localhost:8080/"
        },
        "id": "1CE2EAmJNgDA",
        "outputId": "6388b311-e462-47dd-d922-e5247051c62a"
      },
      "outputs": [
        {
          "output_type": "stream",
          "name": "stdout",
          "text": [
            "Files already downloaded and verified\n",
            "[Train]\n",
            "-Numpy Shape : (50000, 32, 32, 3)\n",
            "-min: [0. 0. 0.]\n",
            "-max: [1. 1. 1.]\n",
            "-mean: [0.49139968 0.48215841 0.44653091]\n",
            "-std: [0.24703223 0.24348513 0.26158784]\n",
            "-var: [15.56135559 15.11767693 17.44919073]\n",
            "-classes: ['airplane', 'automobile', 'bird', 'cat', 'deer', 'dog', 'frog', 'horse', 'ship', 'truck']\n"
          ]
        }
      ],
      "source": [
        "import matplotlib.pyplot as plt\n",
        "import numpy as np\n",
        "import albumentations as A\n",
        "from albumentations.pytorch import ToTensorV2\n",
        "import torch\n",
        "import torch\n",
        "import torch.optim as optim\n",
        "from torchsummary import summary\n",
        "from torch.utils.data import Dataset, DataLoader\n",
        "import torchvision\n",
        "from torchvision import datasets, transforms\n",
        "from tqdm import tqdm\n",
        "import utils\n",
        "import copy\n",
        "import matplotlib.pyplot as plt\n",
        "\n",
        "train_dataset_dict = utils.get_metadata_of_CIFAR10_train_dataset()\n",
        "train_dataset = train_dataset_dict['dataset'] \n",
        "\n",
        "# train_agumentation = {A.Normalize((0.49139968, 0.48215841, 0.44653091),(0.24703223 ,0.24348513, 0.26158784)),\n",
        "#                 A.HorizontalFlip(),\n",
        "#                 A.CoarseDropout(max_holes=1,max_height=8,max_width=8,\n",
        "#                               min_height=8,min_width=8,\n",
        "#                               fill_value= 0.473363,mask_fill_value=None,always_apply=True),\n",
        "#                 A.PadIfNeeded(min_height=36, min_width=36, p=0.2,always_apply=True),\n",
        "#                 A.RandomCrop(32, 32, always_apply=True, p=0.2)\n",
        "#                 }\n",
        "train_agumentation = {A.Normalize((0.49139968, 0.48215841, 0.44653091),(0.24703223, 0.24348513, 0.26158784))\n",
        "                }\n",
        "\n",
        "test_agumentation = {A.Normalize((0.49139968, 0.48215841, 0.44653091),(0.24703223, 0.24348513, 0.26158784))\n",
        "                }"
      ]
    },
    {
      "cell_type": "code",
      "execution_count": 29,
      "metadata": {
        "colab": {
          "base_uri": "https://localhost:8080/"
        },
        "id": "sPsC_56CNTfY",
        "outputId": "49b88275-020c-49ac-db66-dcdfa441e9c8"
      },
      "outputs": [
        {
          "output_type": "stream",
          "name": "stdout",
          "text": [
            "CUDA Available: True\n",
            "Files already downloaded and verified\n",
            "Files already downloaded and verified\n",
            "device :  cuda\n",
            "cuda\n"
          ]
        }
      ],
      "source": [
        "SEED=1\n",
        "#CUDA?\n",
        "cuda=torch.cuda.is_available()\n",
        "print(\"CUDA Available:\",cuda)\n",
        "\n",
        "#For reproducibility\n",
        "torch.manual_seed(SEED)\n",
        "\n",
        "if cuda:\n",
        "  torch.cuda.manual_seed(SEED)\n",
        "  BATCH_SIZE=64\n",
        "else:\n",
        "  BATCH_SIZE=64\n",
        "\n",
        "train_loader,test_loader=utils.get_CIFAR10_dataset(train_agumentation,test_agumentation,BATCH_SIZE)\n",
        "\n",
        "device= utils.get_device()\n",
        "print(device)\n",
        "#net=m.TransformerModel().to(device)"
      ]
    },
    {
      "cell_type": "code",
      "source": [
        "import torch.nn as nn\n",
        "import torch.nn.functional as F\n",
        "import torch\n",
        "\n",
        "class UltimusBlock(nn.Module):\n",
        "    def __init__(self, in_dim, out_dim):\n",
        "        super(UltimusBlock, self).__init__()\n",
        "\t\t#X*K = 48*48x8 > 8\n",
        "        self.K = nn.Linear(in_dim, out_dim*8)\n",
        "\t\t#X*Q = 48*48x8 > 8\n",
        "        self.Q = nn.Linear(in_dim, out_dim*8)\n",
        "\t\t#X*V = 48*48x8 > 8\n",
        "        self.V = nn.Linear(in_dim, out_dim*8)\n",
        "        self.softmax = nn.Softmax(dim=1)\n",
        "        self.out = nn.Linear(out_dim*8, in_dim)\n",
        "\n",
        "    def forward(self, x):\n",
        "        k = self.K(x)\n",
        "        q = self.Q(x)\n",
        "        v = self.V(x)\n",
        "        k = k.view(k.size(0), 8, -1)\n",
        "        q = q.view(q.size(0), 8, -1)\n",
        "        v = v.view(v.size(0), 8, -1)\n",
        "        \n",
        "        am = self.softmax(torch.bmm(q.transpose(1, 2), k)) / 8 ** 0.5\n",
        "        z = torch.bmm(v, am).view(v.size(0), -1)\n",
        "        # AM = SoftMax(QTK)/(8^0.5) = 8*8 = 8\n",
        "        #am = F.softmax(torch.matmul(q, k.t()) / (8 ** 0.5), dim=-1)\n",
        "\n",
        "        # Z = V*AM = 8*8 > 8\n",
        "        #z = torch.matmul(am, v)\n",
        "\n",
        "        # Z*Out = 8*8x48 > 48\n",
        "        return self.out(z)\n",
        "\n",
        "class TransformerModel(nn.Module):\n",
        "    def __init__(self):\n",
        "        super(TransformerModel, self).__init__()\n",
        "        \n",
        "        #Add 3 Convolutions to arrive at AxAx48 dimensions (e.g. 32x32x3 | 3x3x3x16 >> 3x3x16x32 >> 3x3x32x48)\n",
        "        self.conv1 = nn.Conv2d(3, 16, 3, stride=1,padding=1)\n",
        "        self.conv2 = nn.Conv2d(16, 32, 3, stride=2,padding=1)\n",
        "        self.conv3 = nn.Conv2d(32, 48, 3, stride=2,padding=1)\n",
        "        self.global_avg_pool = nn.AdaptiveAvgPool2d(1)\n",
        "        \n",
        "        # Repeat this Ultimus block 4 times\n",
        "        self.ultimus1 = UltimusBlock(48, 8)\n",
        "        self.ultimus2 = UltimusBlock(48, 8)\n",
        "        self.ultimus3 = UltimusBlock(48, 8)\n",
        "        self.ultimus4 = UltimusBlock(48, 8)\n",
        "        \n",
        "        # final fully connected layer\n",
        "        self.fc = nn.Linear(48, 10)\n",
        "\n",
        "    def forward(self, x):\n",
        "        # pass through convolution layers\n",
        "        x = F.relu(self.conv1(x))\n",
        "        x = F.relu(self.conv2(x))\n",
        "        x = F.relu(self.conv3(x))\n",
        "        \n",
        "        # Apply GAP and get 1x1x48, call this X\n",
        "        x = self.global_avg_pool(x)\n",
        "        x = x.view(-1,48)\n",
        "        \n",
        "        # pass through ultimus blocks\n",
        "        x = self.ultimus1(x)\n",
        "        x = self.ultimus2(x)\n",
        "        x = self.ultimus3(x)\n",
        "        x = self.ultimus4(x)\n",
        "        \n",
        "        # final FC layer that converts 48 to 10 \n",
        "        x = self.fc(x)\n",
        "        return x\n"
      ],
      "metadata": {
        "id": "Yei6Nr0czfDP"
      },
      "execution_count": 30,
      "outputs": []
    },
    {
      "cell_type": "code",
      "source": [
        "net=TransformerModel().to(device)"
      ],
      "metadata": {
        "id": "J2bw8CnbzjNN"
      },
      "execution_count": 31,
      "outputs": []
    },
    {
      "cell_type": "code",
      "execution_count": 32,
      "metadata": {
        "id": "L1evQqgyS9gE"
      },
      "outputs": [],
      "source": [
        "import torch.nn as nn\n",
        "criterion = nn.CrossEntropyLoss()"
      ]
    },
    {
      "cell_type": "code",
      "execution_count": 33,
      "metadata": {
        "colab": {
          "base_uri": "https://localhost:8080/",
          "height": 388,
          "referenced_widgets": [
            "9a29260673934de4b4f72447451b4d8c",
            "b6a5ef012757436fa3613d1da1428b8b",
            "e628ec295af64fcc9a1e35b83d27e861",
            "307f5716f2bb4eae92294f47769f7b47",
            "600679cd5dde4d0cb0adb1b9e2339b53",
            "974a5f55d61c42ef954d0991c6ac1716",
            "48de55d8e76746d2b3fc5381a6071514",
            "335b7998c15c434b99c5cfd59671c2d4",
            "cb4cdc6418fb423f851f8011c2400bd8",
            "5fb720f91d234f809e09abb643393d68",
            "a7e675fe5ccc429db6c4c6d308befbb4"
          ]
        },
        "id": "z3D8D5HETN_0",
        "outputId": "3c7db520-d12e-46fa-e68e-8de66e6a3eb3"
      },
      "outputs": [
        {
          "output_type": "display_data",
          "data": {
            "text/plain": [
              "  0%|          | 0/118 [00:00<?, ?it/s]"
            ],
            "application/vnd.jupyter.widget-view+json": {
              "version_major": 2,
              "version_minor": 0,
              "model_id": "9a29260673934de4b4f72447451b4d8c"
            }
          },
          "metadata": {}
        },
        {
          "output_type": "stream",
          "name": "stdout",
          "text": [
            "Learning rate search finished. See the graph with {finder_name}.plot()\n",
            "LR suggestion: steepest gradient\n",
            "Suggested LR: 7.96E-03\n"
          ]
        },
        {
          "output_type": "display_data",
          "data": {
            "text/plain": [
              "<Figure size 432x288 with 1 Axes>"
            ],
            "image/png": "[encoded data removed]"
          },
          "metadata": {
            "needs_background": "light"
          }
        },
        {
          "output_type": "stream",
          "name": "stdout",
          "text": [
            "Max LR is 0.005148426624454633\n"
          ]
        }
      ],
      "source": [
        "net_exp = copy.deepcopy(net)\n",
        "optimizer =  optim.Adam(net_exp.parameters(), lr=0.001, weight_decay=1e-4)\n",
        "ler_rate = utils.find_lr(net_exp,optimizer,criterion,0.02,train_loader)"
      ]
    },
    {
      "cell_type": "code",
      "source": [
        "net1 = copy.deepcopy(net)\n",
        "optimizer =  optim.Adam(net1.parameters(), lr=ler_rate, weight_decay=1e-4)\n",
        "\n",
        "scheduler =utils.get_scheduler(optimizer,len(train_loader),ler_rate)\n",
        "\n",
        "_,history =utils.fit_model(net1,device,train_loader,test_loader,scheduler,optimizer,NUM_EPOCHS=24,l1=False,l2=True)"
      ],
      "metadata": {
        "colab": {
          "base_uri": "https://localhost:8080/"
        },
        "id": "Tvk9oSxYSdDS",
        "outputId": "f4f29edb-c50d-4b77-dc62-51ee7982637e"
      },
      "execution_count": 34,
      "outputs": [
        {
          "output_type": "stream",
          "name": "stdout",
          "text": [
            "EPOCH: 1\n"
          ]
        },
        {
          "output_type": "stream",
          "name": "stderr",
          "text": [
            "Batch_id=781 Loss=-1.62100 Accuracy=9.91: 100%|██████████| 782/782 [00:19<00:00, 40.78it/s]\n"
          ]
        },
        {
          "output_type": "stream",
          "name": "stdout",
          "text": [
            "\n",
            " Test set : Average loss: -7.4005, Accuracy: 1000/10000 (10.00%)\n",
            "\n",
            "EPOCH: 2\n"
          ]
        },
        {
          "output_type": "stream",
          "name": "stderr",
          "text": [
            "Batch_id=781 Loss=nan Accuracy=10.01: 100%|██████████| 782/782 [00:18<00:00, 41.99it/s]\n"
          ]
        },
        {
          "output_type": "stream",
          "name": "stdout",
          "text": [
            "\n",
            " Test set : Average loss: nan, Accuracy: 1000/10000 (10.00%)\n",
            "\n",
            "EPOCH: 3\n"
          ]
        },
        {
          "output_type": "stream",
          "name": "stderr",
          "text": [
            "Batch_id=781 Loss=nan Accuracy=10.00: 100%|██████████| 782/782 [00:20<00:00, 37.97it/s]\n"
          ]
        },
        {
          "output_type": "stream",
          "name": "stdout",
          "text": [
            "\n",
            " Test set : Average loss: nan, Accuracy: 1000/10000 (10.00%)\n",
            "\n",
            "EPOCH: 4\n"
          ]
        },
        {
          "output_type": "stream",
          "name": "stderr",
          "text": [
            "Batch_id=781 Loss=nan Accuracy=10.00: 100%|██████████| 782/782 [00:19<00:00, 40.38it/s]\n"
          ]
        },
        {
          "output_type": "stream",
          "name": "stdout",
          "text": [
            "\n",
            " Test set : Average loss: nan, Accuracy: 1000/10000 (10.00%)\n",
            "\n",
            "EPOCH: 5\n"
          ]
        },
        {
          "output_type": "stream",
          "name": "stderr",
          "text": [
            "Batch_id=781 Loss=nan Accuracy=10.00: 100%|██████████| 782/782 [00:18<00:00, 41.56it/s]\n"
          ]
        },
        {
          "output_type": "stream",
          "name": "stdout",
          "text": [
            "\n",
            " Test set : Average loss: nan, Accuracy: 1000/10000 (10.00%)\n",
            "\n",
            "EPOCH: 6\n"
          ]
        },
        {
          "output_type": "stream",
          "name": "stderr",
          "text": [
            "Batch_id=781 Loss=nan Accuracy=10.00: 100%|██████████| 782/782 [00:18<00:00, 41.75it/s]\n"
          ]
        },
        {
          "output_type": "stream",
          "name": "stdout",
          "text": [
            "\n",
            " Test set : Average loss: nan, Accuracy: 1000/10000 (10.00%)\n",
            "\n",
            "EPOCH: 7\n"
          ]
        },
        {
          "output_type": "stream",
          "name": "stderr",
          "text": [
            "Batch_id=781 Loss=nan Accuracy=10.00: 100%|██████████| 782/782 [00:21<00:00, 35.78it/s]\n"
          ]
        },
        {
          "output_type": "stream",
          "name": "stdout",
          "text": [
            "\n",
            " Test set : Average loss: nan, Accuracy: 1000/10000 (10.00%)\n",
            "\n",
            "EPOCH: 8\n"
          ]
        },
        {
          "output_type": "stream",
          "name": "stderr",
          "text": [
            "Batch_id=781 Loss=nan Accuracy=10.00: 100%|██████████| 782/782 [00:20<00:00, 39.08it/s]\n"
          ]
        },
        {
          "output_type": "stream",
          "name": "stdout",
          "text": [
            "\n",
            " Test set : Average loss: nan, Accuracy: 1000/10000 (10.00%)\n",
            "\n",
            "EPOCH: 9\n"
          ]
        },
        {
          "output_type": "stream",
          "name": "stderr",
          "text": [
            "Batch_id=781 Loss=nan Accuracy=10.00: 100%|██████████| 782/782 [00:21<00:00, 36.27it/s]\n"
          ]
        },
        {
          "output_type": "stream",
          "name": "stdout",
          "text": [
            "\n",
            " Test set : Average loss: nan, Accuracy: 1000/10000 (10.00%)\n",
            "\n",
            "EPOCH: 10\n"
          ]
        },
        {
          "output_type": "stream",
          "name": "stderr",
          "text": [
            "Batch_id=781 Loss=nan Accuracy=10.00: 100%|██████████| 782/782 [00:18<00:00, 41.36it/s]\n"
          ]
        },
        {
          "output_type": "stream",
          "name": "stdout",
          "text": [
            "\n",
            " Test set : Average loss: nan, Accuracy: 1000/10000 (10.00%)\n",
            "\n",
            "EPOCH: 11\n"
          ]
        },
        {
          "output_type": "stream",
          "name": "stderr",
          "text": [
            "Batch_id=781 Loss=nan Accuracy=10.00: 100%|██████████| 782/782 [00:20<00:00, 38.78it/s]\n"
          ]
        },
        {
          "output_type": "stream",
          "name": "stdout",
          "text": [
            "\n",
            " Test set : Average loss: nan, Accuracy: 1000/10000 (10.00%)\n",
            "\n",
            "EPOCH: 12\n"
          ]
        },
        {
          "output_type": "stream",
          "name": "stderr",
          "text": [
            "Batch_id=781 Loss=nan Accuracy=10.00: 100%|██████████| 782/782 [00:19<00:00, 39.25it/s]\n"
          ]
        },
        {
          "output_type": "stream",
          "name": "stdout",
          "text": [
            "\n",
            " Test set : Average loss: nan, Accuracy: 1000/10000 (10.00%)\n",
            "\n",
            "EPOCH: 13\n"
          ]
        },
        {
          "output_type": "stream",
          "name": "stderr",
          "text": [
            "Batch_id=781 Loss=nan Accuracy=10.00: 100%|██████████| 782/782 [00:19<00:00, 39.66it/s]\n"
          ]
        },
        {
          "output_type": "stream",
          "name": "stdout",
          "text": [
            "\n",
            " Test set : Average loss: nan, Accuracy: 1000/10000 (10.00%)\n",
            "\n",
            "EPOCH: 14\n"
          ]
        },
        {
          "output_type": "stream",
          "name": "stderr",
          "text": [
            "Batch_id=781 Loss=nan Accuracy=10.00: 100%|██████████| 782/782 [00:19<00:00, 40.55it/s]\n"
          ]
        },
        {
          "output_type": "stream",
          "name": "stdout",
          "text": [
            "\n",
            " Test set : Average loss: nan, Accuracy: 1000/10000 (10.00%)\n",
            "\n",
            "EPOCH: 15\n"
          ]
        },
        {
          "output_type": "stream",
          "name": "stderr",
          "text": [
            "Batch_id=781 Loss=nan Accuracy=10.00: 100%|██████████| 782/782 [00:21<00:00, 35.97it/s]\n"
          ]
        },
        {
          "output_type": "stream",
          "name": "stdout",
          "text": [
            "\n",
            " Test set : Average loss: nan, Accuracy: 1000/10000 (10.00%)\n",
            "\n",
            "EPOCH: 16\n"
          ]
        },
        {
          "output_type": "stream",
          "name": "stderr",
          "text": [
            "Batch_id=781 Loss=nan Accuracy=10.00: 100%|██████████| 782/782 [00:20<00:00, 38.68it/s]\n"
          ]
        },
        {
          "output_type": "stream",
          "name": "stdout",
          "text": [
            "\n",
            " Test set : Average loss: nan, Accuracy: 1000/10000 (10.00%)\n",
            "\n",
            "EPOCH: 17\n"
          ]
        },
        {
          "output_type": "stream",
          "name": "stderr",
          "text": [
            "Batch_id=781 Loss=nan Accuracy=10.00: 100%|██████████| 782/782 [00:18<00:00, 41.28it/s]\n"
          ]
        },
        {
          "output_type": "stream",
          "name": "stdout",
          "text": [
            "\n",
            " Test set : Average loss: nan, Accuracy: 1000/10000 (10.00%)\n",
            "\n",
            "EPOCH: 18\n"
          ]
        },
        {
          "output_type": "stream",
          "name": "stderr",
          "text": [
            "Batch_id=781 Loss=nan Accuracy=10.00: 100%|██████████| 782/782 [00:19<00:00, 40.17it/s]\n"
          ]
        },
        {
          "output_type": "stream",
          "name": "stdout",
          "text": [
            "\n",
            " Test set : Average loss: nan, Accuracy: 1000/10000 (10.00%)\n",
            "\n",
            "EPOCH: 19\n"
          ]
        },
        {
          "output_type": "stream",
          "name": "stderr",
          "text": [
            "Batch_id=781 Loss=nan Accuracy=10.00: 100%|██████████| 782/782 [00:20<00:00, 38.92it/s]\n"
          ]
        },
        {
          "output_type": "stream",
          "name": "stdout",
          "text": [
            "\n",
            " Test set : Average loss: nan, Accuracy: 1000/10000 (10.00%)\n",
            "\n",
            "EPOCH: 20\n"
          ]
        },
        {
          "output_type": "stream",
          "name": "stderr",
          "text": [
            "Batch_id=781 Loss=nan Accuracy=10.00: 100%|██████████| 782/782 [00:19<00:00, 39.50it/s]\n"
          ]
        },
        {
          "output_type": "stream",
          "name": "stdout",
          "text": [
            "\n",
            " Test set : Average loss: nan, Accuracy: 1000/10000 (10.00%)\n",
            "\n",
            "EPOCH: 21\n"
          ]
        },
        {
          "output_type": "stream",
          "name": "stderr",
          "text": [
            "Batch_id=781 Loss=nan Accuracy=10.00: 100%|██████████| 782/782 [00:20<00:00, 37.98it/s]\n"
          ]
        },
        {
          "output_type": "stream",
          "name": "stdout",
          "text": [
            "\n",
            " Test set : Average loss: nan, Accuracy: 1000/10000 (10.00%)\n",
            "\n",
            "EPOCH: 22\n"
          ]
        },
        {
          "output_type": "stream",
          "name": "stderr",
          "text": [
            "Batch_id=781 Loss=nan Accuracy=10.00: 100%|██████████| 782/782 [00:19<00:00, 39.94it/s]\n"
          ]
        },
        {
          "output_type": "stream",
          "name": "stdout",
          "text": [
            "\n",
            " Test set : Average loss: nan, Accuracy: 1000/10000 (10.00%)\n",
            "\n",
            "EPOCH: 23\n"
          ]
        },
        {
          "output_type": "stream",
          "name": "stderr",
          "text": [
            "Batch_id=781 Loss=nan Accuracy=10.00: 100%|██████████| 782/782 [00:20<00:00, 37.65it/s]\n"
          ]
        },
        {
          "output_type": "stream",
          "name": "stdout",
          "text": [
            "\n",
            " Test set : Average loss: nan, Accuracy: 1000/10000 (10.00%)\n",
            "\n",
            "EPOCH: 24\n"
          ]
        },
        {
          "output_type": "stream",
          "name": "stderr",
          "text": [
            "Batch_id=781 Loss=nan Accuracy=10.00: 100%|██████████| 782/782 [00:19<00:00, 39.15it/s]\n"
          ]
        },
        {
          "output_type": "stream",
          "name": "stdout",
          "text": [
            "\n",
            " Test set : Average loss: nan, Accuracy: 1000/10000 (10.00%)\n",
            "\n"
          ]
        }
      ]
    },
    {
      "cell_type": "code",
      "source": [
        "training_acc,training_loss,testing_acc,testing_loss = history\n",
        "\n",
        "fig, axs = plt.subplots(2,2,figsize=(15,8))\n",
        "axs[0, 0].plot(training_loss,color='r')\n",
        "axs[0, 0].set_title(\"Training Loss\")\n",
        "axs[1, 0].plot(training_acc,color='b')\n",
        "axs[1, 0].set_title(\"Training Accuracy\")\n",
        "axs[0, 1].plot(testing_loss,color='r')\n",
        "axs[0, 1].set_title(\"Test Loss\")\n",
        "axs[1, 1].plot(testing_acc,color='b')\n",
        "axs[1, 1].set_title(\"Test Accuracy\")\n",
        "leg = axs[0, 0].legend(loc='upper right')\n",
        "leg = axs[0, 1].legend(loc='upper right')\n",
        "leg = axs[1, 0].legend(loc='lower right')\n",
        "leg = axs[1, 1].legend(loc='lower right')"
      ],
      "metadata": {
        "colab": {
          "base_uri": "https://localhost:8080/",
          "height": 554
        },
        "id": "Yd1-a5CWJMo8",
        "outputId": "c7ebb517-50ea-4382-876b-d2074602e641"
      },
      "execution_count": 35,
      "outputs": [
        {
          "output_type": "stream",
          "name": "stderr",
          "text": [
            "WARNING:matplotlib.legend:No artists with labels found to put in legend.  Note that artists whose label start with an underscore are ignored when legend() is called with no argument.\n",
            "WARNING:matplotlib.legend:No artists with labels found to put in legend.  Note that artists whose label start with an underscore are ignored when legend() is called with no argument.\n",
            "WARNING:matplotlib.legend:No artists with labels found to put in legend.  Note that artists whose label start with an underscore are ignored when legend() is called with no argument.\n",
            "WARNING:matplotlib.legend:No artists with labels found to put in legend.  Note that artists whose label start with an underscore are ignored when legend() is called with no argument.\n"
          ]
        },
        {
          "output_type": "display_data",
          "data": {
            "text/plain": [
              "<Figure size 1080x576 with 4 Axes>"
            ],
            "image/png": "[encoded data removed]"
          },
          "metadata": {
            "needs_background": "light"
          }
        }
      ]
    }
  ],
  "metadata": {
    "accelerator": "GPU",
    "colab": {
      "provenance": [],
      "include_colab_link": true
    },
    "gpuClass": "standard",
    "kernelspec": {
      "display_name": "Python 3",
      "name": "python3"
    },
    "language_info": {
      "name": "python"
    },
    "widgets": {
      "application/vnd.jupyter.widget-state+json": {
        "9a29260673934de4b4f72447451b4d8c": {
          "model_module": "@jupyter-widgets/controls",
          "model_name": "HBoxModel",
          "model_module_version": "1.5.0",
          "state": {
            "_dom_classes": [],
            "_model_module": "@jupyter-widgets/controls",
            "_model_module_version": "1.5.0",
            "_model_name": "HBoxModel",
            "_view_count": null,
            "_view_module": "@jupyter-widgets/controls",
            "_view_module_version": "1.5.0",
            "_view_name": "HBoxView",
            "box_style": "",
            "children": [
              "IPY_MODEL_b6a5ef012757436fa3613d1da1428b8b",
              "IPY_MODEL_e628ec295af64fcc9a1e35b83d27e861",
              "IPY_MODEL_307f5716f2bb4eae92294f47769f7b47"
            ],
            "layout": "IPY_MODEL_600679cd5dde4d0cb0adb1b9e2339b53"
          }
        },
        "b6a5ef012757436fa3613d1da1428b8b": {
          "model_module": "@jupyter-widgets/controls",
          "model_name": "HTMLModel",
          "model_module_version": "1.5.0",
          "state": {
            "_dom_classes": [],
            "_model_module": "@jupyter-widgets/controls",
            "_model_module_version": "1.5.0",
            "_model_name": "HTMLModel",
            "_view_count": null,
            "_view_module": "@jupyter-widgets/controls",
            "_view_module_version": "1.5.0",
            "_view_name": "HTMLView",
            "description": "",
            "description_tooltip": null,
            "layout": "IPY_MODEL_974a5f55d61c42ef954d0991c6ac1716",
            "placeholder": "​",
            "style": "IPY_MODEL_48de55d8e76746d2b3fc5381a6071514",
            "value": "100%"
          }
        },
        "e628ec295af64fcc9a1e35b83d27e861": {
          "model_module": "@jupyter-widgets/controls",
          "model_name": "FloatProgressModel",
          "model_module_version": "1.5.0",
          "state": {
            "_dom_classes": [],
            "_model_module": "@jupyter-widgets/controls",
            "_model_module_version": "1.5.0",
            "_model_name": "FloatProgressModel",
            "_view_count": null,
            "_view_module": "@jupyter-widgets/controls",
            "_view_module_version": "1.5.0",
            "_view_name": "ProgressView",
            "bar_style": "success",
            "description": "",
            "description_tooltip": null,
            "layout": "IPY_MODEL_335b7998c15c434b99c5cfd59671c2d4",
            "max": 118,
            "min": 0,
            "orientation": "horizontal",
            "style": "IPY_MODEL_cb4cdc6418fb423f851f8011c2400bd8",
            "value": 118
          }
        },
        "307f5716f2bb4eae92294f47769f7b47": {
          "model_module": "@jupyter-widgets/controls",
          "model_name": "HTMLModel",
          "model_module_version": "1.5.0",
          "state": {
            "_dom_classes": [],
            "_model_module": "@jupyter-widgets/controls",
            "_model_module_version": "1.5.0",
            "_model_name": "HTMLModel",
            "_view_count": null,
            "_view_module": "@jupyter-widgets/controls",
            "_view_module_version": "1.5.0",
            "_view_name": "HTMLView",
            "description": "",
            "description_tooltip": null,
            "layout": "IPY_MODEL_5fb720f91d234f809e09abb643393d68",
            "placeholder": "​",
            "style": "IPY_MODEL_a7e675fe5ccc429db6c4c6d308befbb4",
            "value": " 118/118 [00:03&lt;00:00, 39.12it/s]"
          }
        },
        "600679cd5dde4d0cb0adb1b9e2339b53": {
          "model_module": "@jupyter-widgets/base",
          "model_name": "LayoutModel",
          "model_module_version": "1.2.0",
          "state": {
            "_model_module": "@jupyter-widgets/base",
            "_model_module_version": "1.2.0",
            "_model_name": "LayoutModel",
            "_view_count": null,
            "_view_module": "@jupyter-widgets/base",
            "_view_module_version": "1.2.0",
            "_view_name": "LayoutView",
            "align_content": null,
            "align_items": null,
            "align_self": null,
            "border": null,
            "bottom": null,
            "display": null,
            "flex": null,
            "flex_flow": null,
            "grid_area": null,
            "grid_auto_columns": null,
            "grid_auto_flow": null,
            "grid_auto_rows": null,
            "grid_column": null,
            "grid_gap": null,
            "grid_row": null,
            "grid_template_areas": null,
            "grid_template_columns": null,
            "grid_template_rows": null,
            "height": null,
            "justify_content": null,
            "justify_items": null,
            "left": null,
            "margin": null,
            "max_height": null,
            "max_width": null,
            "min_height": null,
            "min_width": null,
            "object_fit": null,
            "object_position": null,
            "order": null,
            "overflow": null,
            "overflow_x": null,
            "overflow_y": null,
            "padding": null,
            "right": null,
            "top": null,
            "visibility": null,
            "width": null
          }
        },
        "974a5f55d61c42ef954d0991c6ac1716": {
          "model_module": "@jupyter-widgets/base",
          "model_name": "LayoutModel",
          "model_module_version": "1.2.0",
          "state": {
            "_model_module": "@jupyter-widgets/base",
            "_model_module_version": "1.2.0",
            "_model_name": "LayoutModel",
            "_view_count": null,
            "_view_module": "@jupyter-widgets/base",
            "_view_module_version": "1.2.0",
            "_view_name": "LayoutView",
            "align_content": null,
            "align_items": null,
            "align_self": null,
            "border": null,
            "bottom": null,
            "display": null,
            "flex": null,
            "flex_flow": null,
            "grid_area": null,
            "grid_auto_columns": null,
            "grid_auto_flow": null,
            "grid_auto_rows": null,
            "grid_column": null,
            "grid_gap": null,
            "grid_row": null,
            "grid_template_areas": null,
            "grid_template_columns": null,
            "grid_template_rows": null,
            "height": null,
            "justify_content": null,
            "justify_items": null,
            "left": null,
            "margin": null,
            "max_height": null,
            "max_width": null,
            "min_height": null,
            "min_width": null,
            "object_fit": null,
            "object_position": null,
            "order": null,
            "overflow": null,
            "overflow_x": null,
            "overflow_y": null,
            "padding": null,
            "right": null,
            "top": null,
            "visibility": null,
            "width": null
          }
        },
        "48de55d8e76746d2b3fc5381a6071514": {
          "model_module": "@jupyter-widgets/controls",
          "model_name": "DescriptionStyleModel",
          "model_module_version": "1.5.0",
          "state": {
            "_model_module": "@jupyter-widgets/controls",
            "_model_module_version": "1.5.0",
            "_model_name": "DescriptionStyleModel",
            "_view_count": null,
            "_view_module": "@jupyter-widgets/base",
            "_view_module_version": "1.2.0",
            "_view_name": "StyleView",
            "description_width": ""
          }
        },
        "335b7998c15c434b99c5cfd59671c2d4": {
          "model_module": "@jupyter-widgets/base",
          "model_name": "LayoutModel",
          "model_module_version": "1.2.0",
          "state": {
            "_model_module": "@jupyter-widgets/base",
            "_model_module_version": "1.2.0",
            "_model_name": "LayoutModel",
            "_view_count": null,
            "_view_module": "@jupyter-widgets/base",
            "_view_module_version": "1.2.0",
            "_view_name": "LayoutView",
            "align_content": null,
            "align_items": null,
            "align_self": null,
            "border": null,
            "bottom": null,
            "display": null,
            "flex": null,
            "flex_flow": null,
            "grid_area": null,
            "grid_auto_columns": null,
            "grid_auto_flow": null,
            "grid_auto_rows": null,
            "grid_column": null,
            "grid_gap": null,
            "grid_row": null,
            "grid_template_areas": null,
            "grid_template_columns": null,
            "grid_template_rows": null,
            "height": null,
            "justify_content": null,
            "justify_items": null,
            "left": null,
            "margin": null,
            "max_height": null,
            "max_width": null,
            "min_height": null,
            "min_width": null,
            "object_fit": null,
            "object_position": null,
            "order": null,
            "overflow": null,
            "overflow_x": null,
            "overflow_y": null,
            "padding": null,
            "right": null,
            "top": null,
            "visibility": null,
            "width": null
          }
        },
        "cb4cdc6418fb423f851f8011c2400bd8": {
          "model_module": "@jupyter-widgets/controls",
          "model_name": "ProgressStyleModel",
          "model_module_version": "1.5.0",
          "state": {
            "_model_module": "@jupyter-widgets/controls",
            "_model_module_version": "1.5.0",
            "_model_name": "ProgressStyleModel",
            "_view_count": null,
            "_view_module": "@jupyter-widgets/base",
            "_view_module_version": "1.2.0",
            "_view_name": "StyleView",
            "bar_color": null,
            "description_width": ""
          }
        },
        "5fb720f91d234f809e09abb643393d68": {
          "model_module": "@jupyter-widgets/base",
          "model_name": "LayoutModel",
          "model_module_version": "1.2.0",
          "state": {
            "_model_module": "@jupyter-widgets/base",
            "_model_module_version": "1.2.0",
            "_model_name": "LayoutModel",
            "_view_count": null,
            "_view_module": "@jupyter-widgets/base",
            "_view_module_version": "1.2.0",
            "_view_name": "LayoutView",
            "align_content": null,
            "align_items": null,
            "align_self": null,
            "border": null,
            "bottom": null,
            "display": null,
            "flex": null,
            "flex_flow": null,
            "grid_area": null,
            "grid_auto_columns": null,
            "grid_auto_flow": null,
            "grid_auto_rows": null,
            "grid_column": null,
            "grid_gap": null,
            "grid_row": null,
            "grid_template_areas": null,
            "grid_template_columns": null,
            "grid_template_rows": null,
            "height": null,
            "justify_content": null,
            "justify_items": null,
            "left": null,
            "margin": null,
            "max_height": null,
            "max_width": null,
            "min_height": null,
            "min_width": null,
            "object_fit": null,
            "object_position": null,
            "order": null,
            "overflow": null,
            "overflow_x": null,
            "overflow_y": null,
            "padding": null,
            "right": null,
            "top": null,
            "visibility": null,
            "width": null
          }
        },
        "a7e675fe5ccc429db6c4c6d308befbb4": {
          "model_module": "@jupyter-widgets/controls",
          "model_name": "DescriptionStyleModel",
          "model_module_version": "1.5.0",
          "state": {
            "_model_module": "@jupyter-widgets/controls",
            "_model_module_version": "1.5.0",
            "_model_name": "DescriptionStyleModel",
            "_view_count": null,
            "_view_module": "@jupyter-widgets/base",
            "_view_module_version": "1.2.0",
            "_view_name": "StyleView",
            "description_width": ""
          }
        }
      }
    }
  },
  "nbformat": 4,
  "nbformat_minor": 0
}